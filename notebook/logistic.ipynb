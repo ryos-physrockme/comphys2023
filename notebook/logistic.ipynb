{
 "cells": [
  {
   "attachments": {},
   "cell_type": "markdown",
   "metadata": {},
   "source": [
    "# Logistic equation\n",
    "\n",
    "## Euler method"
   ]
  },
  {
   "cell_type": "code",
   "execution_count": null,
   "metadata": {},
   "outputs": [],
   "source": [
    "# Compute the derivative of N(t)\n",
    "deriv_Nt(nt, K, r) = r*nt*(1-nt/K)\n",
    "\n",
    "# function deriv_Nt(nt::Float64, K::Float64, r::Float64)::Float64\n",
    "#     return r*nt*(1-nt/K)\n",
    "# end"
   ]
  },
  {
   "cell_type": "code",
   "execution_count": null,
   "metadata": {},
   "outputs": [],
   "source": [
    "methods(deriv_Nt)"
   ]
  },
  {
   "cell_type": "code",
   "execution_count": null,
   "metadata": {},
   "outputs": [],
   "source": [
    "# Compute N(t + h)\n",
    "next_Nt(nt, K, r, h) = nt + h*deriv_Nt(nt, K, r)"
   ]
  },
  {
   "cell_type": "code",
   "execution_count": null,
   "metadata": {},
   "outputs": [],
   "source": [
    "# 各種パラメータを定義\n",
    "tmax = 10.0 # 終了時刻\n",
    "r = 1.0 # パラメータ1\n",
    "K = 10.0 #パラメータ2\n",
    "N0 = 1.0 # 人口の初期値\n",
    "numtimes  = 100 # 0 ≦ t < tmaxの分割数\n",
    "\n",
    "h = tmax/numtimes"
   ]
  },
  {
   "cell_type": "code",
   "execution_count": null,
   "metadata": {},
   "outputs": [],
   "source": [
    "# 型安定性のチェック\n",
    "@code_warntype deriv_Nt(N0, K, r)"
   ]
  },
  {
   "cell_type": "code",
   "execution_count": null,
   "metadata": {},
   "outputs": [],
   "source": [
    "# 型安定性のチェック\n",
    "@code_warntype deriv_Nt(N0, K, r)"
   ]
  },
  {
   "cell_type": "code",
   "execution_count": null,
   "metadata": {},
   "outputs": [],
   "source": [
    "results = Vector{Float64}(undef, numtimes+1)\n",
    "\n",
    "# 初期値\n",
    "results[1] = N0\n",
    "\n",
    "# 時間発展\n",
    "for t in 1:numtimes\n",
    "    results[t+1] = next_Nt(results[t], K, r, h)\n",
    "end"
   ]
  },
  {
   "cell_type": "code",
   "execution_count": null,
   "metadata": {},
   "outputs": [],
   "source": [
    "using Plots\n",
    "\n",
    "times = LinRange(0, tmax, numtimes+1)\n",
    "\n",
    "plot(times, results, label=\"Numerical\", xlabel=\"time\")"
   ]
  },
  {
   "cell_type": "code",
   "execution_count": null,
   "metadata": {},
   "outputs": [],
   "source": [
    "exact_Nt(time::Float64) = K/(1+(K-N0) / N0 * exp(-r*time))"
   ]
  },
  {
   "cell_type": "code",
   "execution_count": null,
   "metadata": {},
   "outputs": [],
   "source": [
    "# broadcast\n",
    "\n",
    "exact_Nt.(times)"
   ]
  },
  {
   "cell_type": "code",
   "execution_count": null,
   "metadata": {},
   "outputs": [],
   "source": [
    "err = abs.(results .- exact_Nt.(times))\n",
    "\n",
    "# 引き算はbroadcastしなくても配列-配列してくれるが、absはもともとは配列を引数にできないのでbroadcast\n",
    "\n",
    "p = plot(yaxis=:log, ylims=(1e-10, 1000),  xlabel=\"time\")\n",
    "plot!(p, times, results, label=\"Numerical\")\n",
    "plot!(p, times, err, marker=:x, label=\"Error\")"
   ]
  },
  {
   "attachments": {},
   "cell_type": "markdown",
   "metadata": {},
   "source": [
    "## DifferentialEquations.jl"
   ]
  },
  {
   "cell_type": "code",
   "execution_count": null,
   "metadata": {},
   "outputs": [],
   "source": [
    "using DifferentialEquations\n",
    "\n",
    "# ロジスティック方程式の定義\n",
    "function logistic!(du, u, params, t)\n",
    "    r, K = params\n",
    "    du[1] = r * u[1] * (1 - u[1]/K)\n",
    "end\n",
    "\n",
    "# パラメータの設定\n",
    "params = (r, K)\n",
    "\n",
    "# 初期条件の設定\n",
    "u0 = [1.0]  # 開始時点の人口サイズ\n",
    "\n",
    "# 時間範囲の設定\n",
    "tspan = (0.0, tmax)\n",
    "\n",
    "# 問題の設定\n",
    "prob = ODEProblem(logistic!, u0, tspan, params)\n",
    "\n",
    "# 微分方程式の解 (5次のルンゲクッタ法)\n",
    "sol = solve(prob, Tsit5(), abstol=1e-8, reltol=1e-8)\n",
    ";"
   ]
  },
  {
   "cell_type": "code",
   "execution_count": null,
   "metadata": {},
   "outputs": [],
   "source": [
    "sol.t"
   ]
  },
  {
   "cell_type": "code",
   "execution_count": null,
   "metadata": {},
   "outputs": [],
   "source": [
    "sol.u"
   ]
  },
  {
   "cell_type": "code",
   "execution_count": null,
   "metadata": {},
   "outputs": [],
   "source": [
    "# 解のプロット\n",
    "\n",
    "results_de = [u_[1] for u_ in sol.u]\n",
    "\n",
    "p = plot(yaxis=:log, ylims=(1e-10, 1000),  xlabel=\"time\")\n",
    "plot!(p, sol.t, results_de, marker=:o)\n",
    "plot!(p, sol.t, abs.(results_de .- exact_Nt.(sol.t)), label=\"error\")"
   ]
  }
 ],
 "metadata": {
  "kernelspec": {
   "display_name": "Julia 1.9.0",
   "language": "julia",
   "name": "julia-1.9"
  },
  "language_info": {
   "file_extension": ".jl",
   "mimetype": "application/julia",
   "name": "julia",
   "version": "1.9.0"
  },
  "orig_nbformat": 4
 },
 "nbformat": 4,
 "nbformat_minor": 2
}
